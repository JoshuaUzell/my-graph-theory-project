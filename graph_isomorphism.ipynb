{
 "cells": [
  {
   "attachments": {},
   "cell_type": "markdown",
   "metadata": {},
   "source": [
    "# The Graph Isomorphism Problem"
   ]
  },
  {
   "attachments": {},
   "cell_type": "markdown",
   "metadata": {},
   "source": [
    "### By Joshua Uzell"
   ]
  },
  {
   "attachments": {},
   "cell_type": "markdown",
   "metadata": {},
   "source": [
    "<a href=\"https://www.researchgate.net/figure/Three-isomorphic-representations-of-the-Petersen-graph_fig2_319135421\"><img src=\"https://www.researchgate.net/publication/319135421/figure/fig2/AS:527817386934272@1502852879601/Three-isomorphic-representations-of-the-Petersen-graph.png\" alt=\"Three isomorphic representations of the Petersen graph.\" style=\"height:200px;\"/></a>\n",
    "<h6>Fig 2. Three isomorphic representations of the Petersen graph.</h6>"
   ]
  },
  {
   "attachments": {},
   "cell_type": "markdown",
   "metadata": {},
   "source": [
    "When it comes to <b>Graph Theory</b> in computer science, there are many cases where problems can occur. One of the main ones to occur is the <b>Graph Isomorphism problem</b>. In this notebook, we'll discuss what <b>Graph Isomorphism</b> is, the problem associated with it and the algorithms that are being used to try and solve it in an efficient manner. This will be followed by a conclusion section going over what has been learned."
   ]
  },
  {
   "attachments": {},
   "cell_type": "markdown",
   "metadata": {},
   "source": [
    "## What is Graph Isomorphism?"
   ]
  },
  {
   "attachments": {},
   "cell_type": "markdown",
   "metadata": {},
   "source": [
    "**Graph Isomorphism** is a comparison between two graphs to see if they both look exactly the same structurally. In a description written by Royle from Wolfram MathWorld, he says that **“Two graphs which contain the same number of graph vertices connected in the same way are said to be isomorphic.”**(Royle, no date) which means they have the same structure. If we put two graphs beside eachother and we can see that it’s possible to have a 1 to 1 or bijective mapping between both of their vertices, and the structure and the number of vertices and edges are the same in both graphs, then they are said to be isomorphic. "
   ]
  },
  {
   "attachments": {},
   "cell_type": "markdown",
   "metadata": {},
   "source": [
    "## References"
   ]
  },
  {
   "attachments": {},
   "cell_type": "markdown",
   "metadata": {},
   "source": [
    "Graphettes: Constant-time determination of graphlet and orbit identity including (possibly disconnected) graphlets up to size 8 - Scientific Figure on ResearchGate. Available from: https://www.researchgate.net/figure/Three-isomorphic-representations-of-the-Petersen-graph_fig2_319135421 [accessed 6 Feb, 2023]\n",
    "\n",
    "Tolley, T. R., Franceschini, R. W. and Petty, M. D. (1995) Graph Isomorphism Algorithms: Investigation Of The Graph Isomorphism Problem. Available at: https://stars.library.ucf.edu/cgi/viewcontent.cgi?article=1105&context=istlibrary.\n",
    "\n"
   ]
  },
  {
   "attachments": {},
   "cell_type": "markdown",
   "metadata": {},
   "source": [
    "## End"
   ]
  }
 ],
 "metadata": {
  "kernelspec": {
   "display_name": "base",
   "language": "python",
   "name": "python3"
  },
  "language_info": {
   "name": "python",
   "version": "3.9.16"
  },
  "orig_nbformat": 4,
  "vscode": {
   "interpreter": {
    "hash": "6c9b5f2fc96e180b8a5a8a696d3f7e4165240dee36d2141e31628b5fa32cbf6e"
   }
  }
 },
 "nbformat": 4,
 "nbformat_minor": 2
}
