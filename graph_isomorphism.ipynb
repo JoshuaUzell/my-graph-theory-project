{
 "cells": [
  {
   "attachments": {},
   "cell_type": "markdown",
   "metadata": {},
   "source": [
    "# The Graph Isomorphism Problem"
   ]
  },
  {
   "attachments": {},
   "cell_type": "markdown",
   "metadata": {},
   "source": [
    "### By Joshua Uzell"
   ]
  },
  {
   "attachments": {},
   "cell_type": "markdown",
   "metadata": {},
   "source": [
    "<a href=\"https://www.researchgate.net/figure/Three-isomorphic-representations-of-the-Petersen-graph_fig2_319135421\"><img src=\"https://www.researchgate.net/publication/319135421/figure/fig2/AS:527817386934272@1502852879601/Three-isomorphic-representations-of-the-Petersen-graph.png\" alt=\"Three isomorphic representations of the Petersen graph.\" style=\"height:200px;\"/></a>\n",
    "<h6>Fig 2. Three isomorphic representations of the Petersen graph.</h6>"
   ]
  },
  {
   "attachments": {},
   "cell_type": "markdown",
   "metadata": {},
   "source": [
    "When it comes to <b>Graph Theory</b> in computer science, there are many cases where problems can occur. One of the main ones to occur is the <b>Graph Isomorphism problem</b>. In this notebook, we'll discuss what <b>Graph Isomorphism</b> is, the problem associated with it and the algorithms that are being used to try and solve it in an efficient manner. This will be followed by a conclusion section going over what has been learned."
   ]
  },
  {
   "attachments": {},
   "cell_type": "markdown",
   "metadata": {},
   "source": [
    "## What is Graph Isomorphism?"
   ]
  },
  {
   "attachments": {},
   "cell_type": "markdown",
   "metadata": {},
   "source": [
    "**Graph Isomorphism** is a comparison between two graphs to see if they both look exactly the same structurally. In a description written by Royle from Wolfram MathWorld, he says that **“Two graphs which contain the same number of graph vertices connected in the same way are said to be isomorphic.”**(Royle, no date) which means they have the same structure. If we put two graphs beside eachother and we can see that it’s possible to have a 1 to 1 or bijective mapping between both of their vertices, and the structure and the number of vertices and edges are the same in both graphs, then they are said to be isomorphic. "
   ]
  },
  {
   "attachments": {},
   "cell_type": "markdown",
   "metadata": {},
   "source": [
    "## The Problem"
   ]
  },
  {
   "attachments": {},
   "cell_type": "markdown",
   "metadata": {},
   "source": [
    "The issue with **Graph Isomorphism** is that it’s one of the most notoriously difficult problems to solve in computer science. Because of this reputation it is known as an NP (nondeterministic polynomial time) problem. In an article done by John Loeffler from Interesting Engineering, **“NP problems do not have a known algorithm that can produce a result in polynomial time.”** (Loeffler, 2019) meaning that there is no solution to the issue if it were to grow in size. As a result there have been many attempts by various computer scientists to try and solve the **Graph Isomorphism** problem in polynomial time. Here are a few examples below of some of the algorithms being used to try and solve it."
   ]
  },
  {
   "attachments": {},
   "cell_type": "markdown",
   "metadata": {},
   "source": [
    "## Algorithms"
   ]
  },
  {
   "attachments": {},
   "cell_type": "markdown",
   "metadata": {},
   "source": [
    "### The Babai Algorithm"
   ]
  },
  {
   "attachments": {},
   "cell_type": "markdown",
   "metadata": {},
   "source": [
    "The **Babai Alogrithm** is recognised currently as one of the fastest algorithms to solve the graph isomorphism problem. It was created by **László Babai** who is both a computer scientist and a professor at the University of Chicago. (Babai, no date) In 2015, according to Erica Klarreich from Quanta Magazine, Babai had “**electrified the theoretical computer science community**” (Klarreich, 2015) with the introduction of his new algorithm. It appeared to be superior to a previous algorithm that held a 30 year record of being the most efficient at solving this problem. (Klarreich, 2015)"
   ]
  },
  {
   "attachments": {},
   "cell_type": "markdown",
   "metadata": {},
   "source": [
    "However in 2017, university professor **Harald Helfgott**, found a problem in the **Babai Alogrithm**, relating to an inaccuracy in measuring the time taking to solve the graph isomorphism problem using a divide-and-conquer tool known as the **“Split-or-Johnson”** routine. (Babai, 2017a) A few days later, Babai acknowledged the issue and made a statement on his homepage saying that he replaced a recursive call in the **“Split-or-Johnson”** routine, fixing the issue and then claiming “**that the Graph Isomorphism test runs in quasipolynomial time (now really).**” (Babai, 2017b) Helfgott then updated his blog on January 14th verifying that the proof was correct and that “**Babai is now giving an algorithm that works in quasipolynomial time.**” (valuevar, 2017)"
   ]
  },
  {
   "attachments": {},
   "cell_type": "markdown",
   "metadata": {},
   "source": [
    "## References"
   ]
  },
  {
   "attachments": {},
   "cell_type": "markdown",
   "metadata": {},
   "source": [
    "Babai, L. (2017a) Fixing the UPCC case of Split-or-Johnson. Available at: http://people.cs.uchicago.edu/~laci/upcc-fix.pdf."
   ]
  },
  {
   "attachments": {},
   "cell_type": "markdown",
   "metadata": {},
   "source": [
    "Babai, L. (2017b) Graph Isomorphism January 9, 2017, The University of Chicago. Available at: http://people.cs.uchicago.edu/~laci/update.html."
   ]
  },
  {
   "attachments": {},
   "cell_type": "markdown",
   "metadata": {},
   "source": [
    "Babai, L. (no date) László Babai Bruce V. and Diana M. Rauner Distinguished Service Professor, Departments of Computer Science and Mathematics, The University of Chicago. Available at: https://cs.uchicago.edu/people/laszlo-babai/."
   ]
  },
  {
   "attachments": {},
   "cell_type": "markdown",
   "metadata": {},
   "source": [
    "Graphettes: Constant-time determination of graphlet and orbit identity including (possibly disconnected) graphlets up to size 8 - Scientific Figure on ResearchGate. Available from: https://www.researchgate.net/figure/Three-isomorphic-representations-of-the-Petersen-graph_fig2_319135421 [accessed 6 Feb, 2023]"
   ]
  },
  {
   "attachments": {},
   "cell_type": "markdown",
   "metadata": {},
   "source": [
    "Loeffler, J. (2019) ‘P vs NP, NP-Complete, and an Algorithm for Everything’, Interesting Engineering, May. Available at: https://interestingengineering.com/innovation/p-vs-np-np-complete-and-an-algorithm-for-everything."
   ]
  },
  {
   "attachments": {},
   "cell_type": "markdown",
   "metadata": {},
   "source": [
    "Klarreich, E. (2015) ‘Landmark Algorithm Breaks 30-Year Impasse’, Quanta Magazine, December. Available at: https://www.quantamagazine.org/algorithm-solves-graph-isomorphism-in-record-time-20151214."
   ]
  },
  {
   "attachments": {},
   "cell_type": "markdown",
   "metadata": {},
   "source": [
    "Tolley, T. R., Franceschini, R. W. and Petty, M. D. (1995) Graph Isomorphism Algorithms: Investigation Of The Graph Isomorphism Problem. Available at: https://stars.library.ucf.edu/cgi/viewcontent.cgi?article=1105&context=istlibrary."
   ]
  },
  {
   "attachments": {},
   "cell_type": "markdown",
   "metadata": {},
   "source": [
    "valuevar (2017) Graph isomorphism in subexponential time. Available at: https://valuevar.wordpress.com/2017/01/04/graph-isomorphism-in-subexponential-time/."
   ]
  },
  {
   "attachments": {},
   "cell_type": "markdown",
   "metadata": {},
   "source": [
    "## End"
   ]
  }
 ],
 "metadata": {
  "kernelspec": {
   "display_name": "base",
   "language": "python",
   "name": "python3"
  },
  "language_info": {
   "name": "python",
   "version": "3.9.16"
  },
  "orig_nbformat": 4,
  "vscode": {
   "interpreter": {
    "hash": "6c9b5f2fc96e180b8a5a8a696d3f7e4165240dee36d2141e31628b5fa32cbf6e"
   }
  }
 },
 "nbformat": 4,
 "nbformat_minor": 2
}
